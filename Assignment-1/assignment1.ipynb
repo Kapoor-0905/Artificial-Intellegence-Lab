{
 "cells": [
  {
   "cell_type": "code",
   "execution_count": null,
   "metadata": {},
   "outputs": [],
   "source": []
  }
 ],
 "metadata": {
  "kernelspec": {
   "display_name": "Python 3",
   "language": "python",
   "name": "python3"
  },
  "language_info": {
   "name": "python",
   "version": "3.9.2 (tags/v3.9.2:1a79785, Feb 19 2021, 13:44:55) [MSC v.1928 64 bit (AMD64)]"
  },
  "orig_nbformat": 4,
  "vscode": {
   "interpreter": {
    "hash": "b807d2777bfc986b5ce1ec73afeeb86a410d130ab224f832aa8248021f3f5a03"
   }
  }
 },
 "nbformat": 4,
 "nbformat_minor": 2
}
